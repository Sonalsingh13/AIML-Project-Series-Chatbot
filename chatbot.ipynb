{
 "cells": [
  {
   "cell_type": "code",
   "execution_count": 20,
   "id": "0c855886-1e4b-4249-8d2d-d8e8ba221488",
   "metadata": {},
   "outputs": [
    {
     "name": "stdout",
     "output_type": "stream",
     "text": [
      "Hello! I'm your simple chatbot. What's your name?\n"
     ]
    },
    {
     "name": "stdin",
     "output_type": "stream",
     "text": [
      "Your name:  Sonal\n"
     ]
    },
    {
     "name": "stdout",
     "output_type": "stream",
     "text": [
      "Nice to meet you, Sonal!\n"
     ]
    },
    {
     "name": "stdin",
     "output_type": "stream",
     "text": [
      "You:  how are you\n"
     ]
    },
    {
     "name": "stdout",
     "output_type": "stream",
     "text": [
      "Chatbot: I'm just a bot, but I'm doing great! How about you?\n"
     ]
    },
    {
     "name": "stdin",
     "output_type": "stream",
     "text": [
      "You:  tell me a joke\n"
     ]
    },
    {
     "name": "stdout",
     "output_type": "stream",
     "text": [
      "Chatbot: Why don't scientists trust atoms? Because they make up everything!\n"
     ]
    },
    {
     "name": "stdin",
     "output_type": "stream",
     "text": [
      "You:  who created you\n"
     ]
    },
    {
     "name": "stdout",
     "output_type": "stream",
     "text": [
      "Chatbot: I was created by Sonal Singh.\n"
     ]
    },
    {
     "name": "stdin",
     "output_type": "stream",
     "text": [
      "You:  what can you do\n"
     ]
    },
    {
     "name": "stdout",
     "output_type": "stream",
     "text": [
      "Chatbot: I can chat with you and remember our conversation!\n",
      "Let's get to know each other better.\n",
      "What is your favorite color?\n"
     ]
    },
    {
     "name": "stdin",
     "output_type": "stream",
     "text": [
      "You:  pink\n"
     ]
    },
    {
     "name": "stdout",
     "output_type": "stream",
     "text": [
      "What is your hobby?\n"
     ]
    },
    {
     "name": "stdin",
     "output_type": "stream",
     "text": [
      "You:  reading\n"
     ]
    },
    {
     "name": "stdout",
     "output_type": "stream",
     "text": [
      "Do you have any pets?\n"
     ]
    },
    {
     "name": "stdin",
     "output_type": "stream",
     "text": [
      "You:  no\n",
      "You:  tell me what you know about me\n"
     ]
    },
    {
     "name": "stdout",
     "output_type": "stream",
     "text": [
      "Let's see what I've learned about you:\n",
      "What is your favorite color? - pink\n",
      "What is your hobby? - reading\n",
      "Do you have any pets? - no\n"
     ]
    },
    {
     "name": "stdin",
     "output_type": "stream",
     "text": [
      "You:  bye\n"
     ]
    },
    {
     "name": "stdout",
     "output_type": "stream",
     "text": [
      "Goodbye! Have a great day!\n"
     ]
    }
   ],
   "source": [
    "class SimpleChatbot:\n",
    "    def __init__(self):\n",
    "        self.user_name = None\n",
    "        self.user_context = {}\n",
    "        self.greeting_message = \"Hello! I'm your simple chatbot. What's your name?\"\n",
    "        self.farewell_message = \"Goodbye! Have a great day!\"\n",
    "        self.questions = {\n",
    "            \"how are you\": \"I'm just a bot, but I'm doing great! How about you?\",\n",
    "            \"what's your name\": \"I'm the Simple Chatbot. What's yours?\",\n",
    "            \"what can you do\": \"I can chat with you and remember our conversation!\",\n",
    "            \"who created you\": \"I was created by Sonal Singh.\",\n",
    "            \"tell me a joke\": \"Why don't scientists trust atoms? Because they make up everything!\"\n",
    "        }\n",
    "        self.bot_questions = [\n",
    "            \"What is your favorite color?\",\n",
    "            \"What is your hobby?\",\n",
    "            \"Do you have any pets?\"\n",
    "        ]\n",
    "\n",
    "    def greet(self):\n",
    "        print(self.greeting_message)\n",
    "        self.user_name = input(\"Your name: \")\n",
    "        print(f\"Nice to meet you, {self.user_name}!\")\n",
    "\n",
    "    def respond_to_question(self, user_input):\n",
    "        lower_input = user_input.lower()\n",
    "        if lower_input in self.questions:\n",
    "            response = self.questions[lower_input]\n",
    "            # Transition to asking predefined questions if the user asks \"what can you do\"\n",
    "            if lower_input == \"what can you do\":\n",
    "                response += \"\\nLet's get to know each other better.\"\n",
    "                print(f\"Chatbot: {response}\")\n",
    "                self.ask_user_questions()\n",
    "                return None\n",
    "            return response\n",
    "        else:\n",
    "            return \"I'm not sure how to respond to that.\"\n",
    "\n",
    "    def ask_user_questions(self):\n",
    "        for question in self.bot_questions:\n",
    "            print(question)\n",
    "            response = input(\"You: \")\n",
    "            self.user_context[question] = response\n",
    "\n",
    "    def recall_context(self):\n",
    "        if self.user_context:\n",
    "            print(\"Let's see what I've learned about you:\")\n",
    "            for question, answer in self.user_context.items():\n",
    "                print(f\"{question} - {answer}\")\n",
    "        else:\n",
    "            print(\"I haven't learned anything about you yet.\")\n",
    "\n",
    "    def farewell(self):\n",
    "        print(self.farewell_message)\n",
    "\n",
    "    def handle_conversation(self):\n",
    "        self.greet()\n",
    "        while True:\n",
    "            user_input = input(\"You: \")\n",
    "            if user_input.lower() in [\"bye\", \"exit\", \"quit\"]:\n",
    "                self.farewell()\n",
    "                break\n",
    "            elif user_input.lower() in [\"tell me what you know about me\", \"recall context\"]:\n",
    "                self.recall_context()\n",
    "            else:\n",
    "                response = self.respond_to_question(user_input)\n",
    "                if response:\n",
    "                    print(f\"Chatbot: {response}\")\n",
    "\n",
    "# Main execution\n",
    "if __name__ == \"__main__\":\n",
    "    chatbot = SimpleChatbot()\n",
    "    chatbot.handle_conversation()\n"
   ]
  },
  {
   "cell_type": "code",
   "execution_count": null,
   "id": "c0160dc1-c299-4839-be81-2890bdf9fdb4",
   "metadata": {},
   "outputs": [],
   "source": []
  }
 ],
 "metadata": {
  "kernelspec": {
   "display_name": "Python 3 (ipykernel)",
   "language": "python",
   "name": "python3"
  },
  "language_info": {
   "codemirror_mode": {
    "name": "ipython",
    "version": 3
   },
   "file_extension": ".py",
   "mimetype": "text/x-python",
   "name": "python",
   "nbconvert_exporter": "python",
   "pygments_lexer": "ipython3",
   "version": "3.11.7"
  }
 },
 "nbformat": 4,
 "nbformat_minor": 5
}
